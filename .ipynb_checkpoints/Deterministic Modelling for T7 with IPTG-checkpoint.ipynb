{
 "cells": [
  {
   "cell_type": "markdown",
   "metadata": {},
   "source": [
    "# Deterministic Modelling for T7 with IPTG"
   ]
  },
  {
   "cell_type": "code",
   "execution_count": 18,
   "metadata": {
    "collapsed": true
   },
   "outputs": [],
   "source": [
    "from __future__ import division, print_function # Imports from __future__ since we're running Python 2\n",
    "import os\n",
    "import numpy as np \n",
    "import pandas as pd\n",
    "import matplotlib.pyplot as plt\n",
    "import seaborn as sns\n",
    "import scipy\n",
    "from sklearn.naive_bayes import MultinomialNB\n",
    "from sklearn.metrics import accuracy_score, confusion_matrix\n",
    "%matplotlib inline\n",
    "from scipy.integrate import odeint"
   ]
  },
  {
   "cell_type": "code",
   "execution_count": 24,
   "metadata": {
    "collapsed": true
   },
   "outputs": [],
   "source": [
    "k_smr = 0.23\n",
    "lambda_mr = 0.462\n",
    "k_sr = 15\n",
    "lambda_r = 0.2\n",
    "k_2r = 50\n",
    "k_Neg_2r = 1e-3\n",
    "k_rt7 = 960\n",
    "k_Neg_rt7 = 2.4\n",
    "lambda_r2 = 0.2\n",
    "k_dr1 = 3e-7\n",
    "k_Neg_dr1 = 12\n",
    "k_dr2 = 3e-7\n",
    "k_Neg_dr2 = 4.8e3\n",
    "k_rcre = 960\n",
    "k_Neg_rcre = 2.4\n",
    "k_dr3 = 3e-7\n",
    "k_Neg_dr3 = 4.8e3\n",
    "lambda_i2r2 = 0.2\n",
    "k_s0mt7 = 0.01\n",
    "k_s1mt7 = 0.5\n",
    "lambda_mt = 0.462\n",
    "k_st7 = 30\n",
    "lambda_t7 = 0.2"
   ]
  },
  {
   "cell_type": "code",
   "execution_count": 25,
   "metadata": {
    "collapsed": true
   },
   "outputs": [],
   "source": [
    "def f(y, t):\n",
    "     mr = y[0]\n",
    "     r = y[1]\n",
    "     r2 = y[2]\n",
    "     ot7 = y[3]\n",
    "     i2r2 = y[4]\n",
    "     mt7 = y[5]\n",
    "     t7 = y[6]\n",
    "     i = y[7]\n",
    "    \n",
    "     f0 = k_smr - lambda_mr*mr\n",
    "     f1 = k_sr*mr - 2*k_2r*r*r + 2*k_Neg_2r*r2 - lambda_r*r\n",
    "     f2 = k_2r*r*r - k_Neg_2r*r2 - k_rt7*r2*ot7 + k_Neg_rt7*(2.08-ot7) - k_dr1*i*i*r2 + k_Neg_dr1*i2r2 - lambda_r2*r2\n",
    "     f3 = -k_rt7*r2*ot7 + k_Neg_rt7*(2.08-ot7) + k_dr2*i*i*(2.08-ot7) - k_Neg_dr2*i2r2*ot7 \n",
    "     f4 = k_dr1*i*i*r2 - k_Neg_dr1*i2r2 + k_dr2*i*i*(2.08-ot7) - k_Neg_dr2*i2r2*ot7 - lambda_i2r2*i2r2\n",
    "     f5 = k_s0mt7*(2.08-ot7) + k_s1mt7*ot7 - lambda_mt*mt7\n",
    "     f6 = k_st7*mt7 - lambda_t7*t7\n",
    "     f7 = 0 \n",
    "     return [f0, f1, f2, f3, f4, f5, f6, f7]\n"
   ]
  },
  {
   "cell_type": "code",
   "execution_count": 26,
   "metadata": {
    "collapsed": true
   },
   "outputs": [],
   "source": [
    "mr_0 = 0\n",
    "r_0 = 0\n",
    "r2_0 = 0\n",
    "ot7_0 = 2.08\n",
    "i2r2_0 = 0\n",
    "mt7_0 = 0\n",
    "t7_0 = 0\n",
    "i_0 = 0 \n",
    "                \n",
    "y0 = [mr_0, r_0, r2_0, ot7_0, i2r2_0, mt7_0, t7_0, i_0]     # initial condition vector\n",
    "t  = np.linspace(0, 200, 1000)         # time grid\n"
   ]
  },
  {
   "cell_type": "code",
   "execution_count": 28,
   "metadata": {
    "scrolled": false
   },
   "outputs": [
    {
     "name": "stderr",
     "output_type": "stream",
     "text": [
      "/Users/xintongyu/anaconda/lib/python2.7/site-packages/ipykernel_launcher.py:13: RuntimeWarning: overflow encountered in multiply\n",
      "  del sys.path[0]\n",
      "/Users/xintongyu/anaconda/lib/python2.7/site-packages/ipykernel_launcher.py:14: RuntimeWarning: overflow encountered in multiply\n",
      "  \n"
     ]
    },
    {
     "ename": "ValueError",
     "evalue": "setting an array element with a sequence.",
     "output_type": "error",
     "traceback": [
      "\u001b[0;31m---------------------------------------------------------------------------\u001b[0m",
      "\u001b[0;31mValueError\u001b[0m                                Traceback (most recent call last)",
      "\u001b[0;32m<ipython-input-28-a58611b5dc97>\u001b[0m in \u001b[0;36m<module>\u001b[0;34m()\u001b[0m\n\u001b[1;32m      1\u001b[0m \u001b[0msoln\u001b[0m \u001b[0;34m=\u001b[0m \u001b[0;34m[\u001b[0m\u001b[0;34m]\u001b[0m\u001b[0;34m\u001b[0m\u001b[0m\n\u001b[0;32m----> 2\u001b[0;31m \u001b[0msoln\u001b[0m \u001b[0;34m=\u001b[0m \u001b[0modeint\u001b[0m\u001b[0;34m(\u001b[0m\u001b[0mf\u001b[0m\u001b[0;34m,\u001b[0m \u001b[0my0\u001b[0m\u001b[0;34m,\u001b[0m \u001b[0mt\u001b[0m\u001b[0;34m)\u001b[0m\u001b[0;34m\u001b[0m\u001b[0m\n\u001b[0m\u001b[1;32m      3\u001b[0m \u001b[0;34m\u001b[0m\u001b[0m\n\u001b[1;32m      4\u001b[0m \u001b[0mmr\u001b[0m \u001b[0;34m=\u001b[0m \u001b[0msoln\u001b[0m\u001b[0;34m[\u001b[0m\u001b[0;34m:\u001b[0m\u001b[0;34m,\u001b[0m \u001b[0;36m0\u001b[0m\u001b[0;34m]\u001b[0m\u001b[0;34m\u001b[0m\u001b[0m\n\u001b[1;32m      5\u001b[0m \u001b[0mr\u001b[0m \u001b[0;34m=\u001b[0m \u001b[0msoln\u001b[0m\u001b[0;34m[\u001b[0m\u001b[0;34m:\u001b[0m\u001b[0;34m,\u001b[0m \u001b[0;36m1\u001b[0m\u001b[0;34m]\u001b[0m\u001b[0;34m\u001b[0m\u001b[0m\n",
      "\u001b[0;32m/Users/xintongyu/anaconda/lib/python2.7/site-packages/scipy/integrate/odepack.pyc\u001b[0m in \u001b[0;36modeint\u001b[0;34m(func, y0, t, args, Dfun, col_deriv, full_output, ml, mu, rtol, atol, tcrit, h0, hmax, hmin, ixpr, mxstep, mxhnil, mxordn, mxords, printmessg)\u001b[0m\n\u001b[1;32m    213\u001b[0m     output = _odepack.odeint(func, y0, t, args, Dfun, col_deriv, ml, mu,\n\u001b[1;32m    214\u001b[0m                              \u001b[0mfull_output\u001b[0m\u001b[0;34m,\u001b[0m \u001b[0mrtol\u001b[0m\u001b[0;34m,\u001b[0m \u001b[0matol\u001b[0m\u001b[0;34m,\u001b[0m \u001b[0mtcrit\u001b[0m\u001b[0;34m,\u001b[0m \u001b[0mh0\u001b[0m\u001b[0;34m,\u001b[0m \u001b[0mhmax\u001b[0m\u001b[0;34m,\u001b[0m \u001b[0mhmin\u001b[0m\u001b[0;34m,\u001b[0m\u001b[0;34m\u001b[0m\u001b[0m\n\u001b[0;32m--> 215\u001b[0;31m                              ixpr, mxstep, mxhnil, mxordn, mxords)\n\u001b[0m\u001b[1;32m    216\u001b[0m     \u001b[0;32mif\u001b[0m \u001b[0moutput\u001b[0m\u001b[0;34m[\u001b[0m\u001b[0;34m-\u001b[0m\u001b[0;36m1\u001b[0m\u001b[0;34m]\u001b[0m \u001b[0;34m<\u001b[0m \u001b[0;36m0\u001b[0m\u001b[0;34m:\u001b[0m\u001b[0;34m\u001b[0m\u001b[0m\n\u001b[1;32m    217\u001b[0m         \u001b[0mwarning_msg\u001b[0m \u001b[0;34m=\u001b[0m \u001b[0m_msgs\u001b[0m\u001b[0;34m[\u001b[0m\u001b[0moutput\u001b[0m\u001b[0;34m[\u001b[0m\u001b[0;34m-\u001b[0m\u001b[0;36m1\u001b[0m\u001b[0;34m]\u001b[0m\u001b[0;34m]\u001b[0m \u001b[0;34m+\u001b[0m \u001b[0;34m\" Run with full_output = 1 to get quantitative information.\"\u001b[0m\u001b[0;34m\u001b[0m\u001b[0m\n",
      "\u001b[0;31mValueError\u001b[0m: setting an array element with a sequence."
     ]
    }
   ],
   "source": [
    "soln = odeint(f, y0, t)\n",
    "\n",
    "mr = soln[:, 0]\n",
    "r = soln[:, 1]\n",
    "r2 = soln[:, 2]\n",
    "ot7 = soln[:, 3]\n",
    "i2r2 = soln[:, 4]\n",
    "mt7 = soln[:, 5]\n",
    "t7 = soln[:, 6]\n",
    "i = soln[:, 7]"
   ]
  },
  {
   "cell_type": "code",
   "execution_count": null,
   "metadata": {
    "collapsed": true
   },
   "outputs": [],
   "source": [
    "plt.ion()\n",
    "plt.rcParams['figure.figsize'] = 10, 8"
   ]
  },
  {
   "cell_type": "code",
   "execution_count": null,
   "metadata": {},
   "outputs": [],
   "source": [
    "plt.figure()\n",
    "plt.plot(t, t7, label='T7')\n",
    "plt.xlabel('Time')\n",
    "plt.ylabel('T7')\n",
    "plt.title('T7 change over time')\n",
    "plt.legend(loc=0)\n",
    "\n",
    "axes = plt.gca()\n",
    "#axes.set_ylim([0,6000])\n",
    "#axes.set_xlim([0,120])\n",
    "print(t7[999])"
   ]
  },
  {
   "cell_type": "code",
   "execution_count": null,
   "metadata": {
    "collapsed": true
   },
   "outputs": [],
   "source": [
    "y_e = []\n",
    "for i in range(13):\n",
    "    sol = soln[:, i]\n",
    "    y_e.append(sol[999])\n",
    "\n",
    "y_e[10] = 20000    "
   ]
  },
  {
   "cell_type": "code",
   "execution_count": null,
   "metadata": {},
   "outputs": [],
   "source": [
    "t  = np.linspace(0, 400, 1000)         # time grid\n",
    "soln = odeint(f, y_e, t)\n",
    "\n",
    "mr = soln[:, 0]\n",
    "r = soln[:, 1]\n",
    "r2 = soln[:, 2]\n",
    "ot7 = soln[:, 3]\n",
    "ocre = soln[:, 4]\n",
    "i2r2 = soln[:, 5]\n",
    "mt7 = soln[:, 6]\n",
    "t7 = soln[:, 7]\n",
    "mcre = soln[:, 8]\n",
    "cre = soln[:, 9]\n",
    "i = soln[:, 10]\n",
    "r2ot7 = soln[:, 11]\n",
    "r2ocre = soln[:, 12] "
   ]
  },
  {
   "cell_type": "code",
   "execution_count": null,
   "metadata": {
    "collapsed": true
   },
   "outputs": [],
   "source": [
    "plt.ion()\n",
    "plt.rcParams['figure.figsize'] = 10, 8"
   ]
  },
  {
   "cell_type": "code",
   "execution_count": null,
   "metadata": {},
   "outputs": [],
   "source": [
    "plt.figure()\n",
    "plt.plot(t, cre, label='Cre')\n",
    "plt.xlabel('Time')\n",
    "plt.ylabel('Cre')\n",
    "plt.title('cre change over time')\n",
    "plt.legend(loc=0)\n",
    "\n",
    "axes = plt.gca()\n",
    "#axes.set_ylim([4400,4800])\n",
    "#axes.set_xlim([0,500])\n",
    "print(cre[999])\n",
    "print(t7[999])"
   ]
  },
  {
   "cell_type": "code",
   "execution_count": null,
   "metadata": {},
   "outputs": [],
   "source": [
    "f, (ax1, ax2) = plt.subplots(1, 2, sharex=True)\n",
    "\n",
    "ax1.plot(t, cre, label='$Cre$')\n",
    "ax1.set_title('$Cre$')\n",
    "\n",
    "#ax2.plot(t, t7, label='T7')\n",
    "#ax2.set_title('T7')\n",
    "\n",
    "ax2.plot(t, r2, label='$R_2$')\n",
    "ax2.set_title('$R_2$')\n",
    "\n",
    "#ax2.plot(t, i, label='I')\n",
    "#ax2.set_title('$I$')\n",
    "\n",
    "#ax2.plot(t, r2ot7, label='$R_2O_{T7}$')\n",
    "#ax2.set_title('$R_2O_{T7}$')\n"
   ]
  }
 ],
 "metadata": {
  "kernelspec": {
   "display_name": "Python 2",
   "language": "python",
   "name": "python2"
  },
  "language_info": {
   "codemirror_mode": {
    "name": "ipython",
    "version": 2
   },
   "file_extension": ".py",
   "mimetype": "text/x-python",
   "name": "python",
   "nbconvert_exporter": "python",
   "pygments_lexer": "ipython2",
   "version": "2.7.13"
  }
 },
 "nbformat": 4,
 "nbformat_minor": 1
}
