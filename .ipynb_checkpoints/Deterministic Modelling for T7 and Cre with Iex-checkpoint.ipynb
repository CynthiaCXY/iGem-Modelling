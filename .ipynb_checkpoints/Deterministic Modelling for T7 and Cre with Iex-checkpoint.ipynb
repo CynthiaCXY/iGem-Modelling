{
 "cells": [
  {
   "cell_type": "markdown",
   "metadata": {},
   "source": [
    "# Deterministic Modelling for T7 and Cre with Iex"
   ]
  },
  {
   "cell_type": "code",
   "execution_count": 24,
   "metadata": {
    "collapsed": true
   },
   "outputs": [],
   "source": [
    "from __future__ import division, print_function # Imports from __future__ since we're running Python 2\n",
    "import os\n",
    "import numpy as np \n",
    "import pandas as pd\n",
    "import matplotlib.pyplot as plt\n",
    "import seaborn as sns\n",
    "import scipy\n",
    "from sklearn.naive_bayes import MultinomialNB\n",
    "from sklearn.metrics import accuracy_score, confusion_matrix\n",
    "%matplotlib inline\n",
    "from scipy.integrate import odeint"
   ]
  },
  {
   "cell_type": "code",
   "execution_count": 25,
   "metadata": {
    "collapsed": true
   },
   "outputs": [],
   "source": [
    "k_smr = 0.23\n",
    "k_sr = 15\n",
    "k_2r = 50\n",
    "k_Neg_2r = 1e-3\n",
    "k_rt7 = 960\n",
    "k_Neg_rt7 = 2.4\n",
    "k_rcre = 960\n",
    "k_Neg_rcre = 2.4\n",
    "k_ry\n",
    "k_Neg_ry\n",
    "k_dr1 = 3e-7\n",
    "K_Neg_dr1 = 12\n",
    "k_dr2 = 3e-7\n",
    "k_Neg_dr2 = 4.8e3\n",
    "k_dr3 = 3e-7\n",
    "k_Neg_dr3 = 4.8e3\n",
    "k_dr4 = 3e-7\n",
    "k_Neg_dr4 = 4.8e3\n",
    "k_ft = 6.1e4\n",
    "k_p = 0.12\n",
    "k_Neg_p = 0.1\n",
    "k_t = 0.92\n",
    "k_s0mt7 = 0.01\n",
    "k_s1mt7 = 0.5\n",
    "k_st7 = 30\n",
    "k_s0mcre = 0.01\n",
    "k_s1mcre = 28.3\n",
    "k_scre = 30\n",
    "k_s0my = 0.01\n",
    "k_s1my = 0.5\n",
    "k_sy = 30\n",
    "\n",
    "lambda_mr = 0.462\n",
    "lambda_r = 0.2\n",
    "lambda_i2r2 = 0.2\n",
    "lambda_r2 = 0.2\n",
    "lambda_yiex = 0.2\n",
    "lambda_mt7 = 0.462\n",
    "lambda_t7 = 0.2\n",
    "lambda_mcre = 0.462\n",
    "lambda_cre = 0.2\n",
    "lambda_my = 0.462\n",
    "lambda_y = 0.2"
   ]
  },
  {
   "cell_type": "code",
   "execution_count": 26,
   "metadata": {
    "collapsed": true
   },
   "outputs": [],
   "source": [
    "def f(y, t):\n",
    "     mr = y[0]\n",
    "     r = y[1]\n",
    "     r2 = y[2]\n",
    "     ot7 = y[3]\n",
    "     ocre = y[4]\n",
    "     oy = y[5]   \n",
    "     yiex = y[6]\n",
    "     i = y[7]\n",
    "     i2r2 = y[8]\n",
    "     mt7 = y[9]\n",
    "     t7 = y[10]\n",
    "     mcre = y[11]\n",
    "     cre = y[12]\n",
    "     my = y[13]   \n",
    "     lac_Y = y[14]\n",
    "\n",
    "     f0 = k_smr - lambda_mr*mr\n",
    "     f1 = k_sr*mr - 2*k_2r*r*r + 2*k_Neg_2r*r2 - lambda_r*r\n",
    "     f2 = k_2r*r*r - k_Neg_2r*r2 - k_rt7*r2*ot7 + k_Neg_rt7*(2.08-ot7) - k_rcre*r2*ocre + k_Neg_rcre*(208-ocre) - k_ry*r2*oy + k_Neg_ry*(2.08-oy) - k_dr1*i*i*r2 + k_Neg_dr1*i2r2 - lambda_r2*r2\n",
    "     f3 = -k_rt7*r2*ot7 + k_Neg_rt7*(2.08-ot7) + k_dr2*i*i*(2.08-ot7) - k_Neg_dr2*i2r2*ot7\n",
    "     f4 = -k_rcre*r2*ocre + k_Neg_rcre*(208-ocre) + k_dr3*i*i*(208-ocre) - k_Neg_dr3*i2r2*ocre\n",
    "     f5 = -k_ry*r2*oy + k_Neg_ry*(2.08-oy) + k_dr4*i*i*(2.08-oy) - k_Neg_dr4*i2r2*oy\n",
    "     f6 = -(k_ft + k_Neg_p)*yiex + k_p*lac_Y*iex - lambda_yiex*yiex  \n",
    "     f7 = -2*k_dr1*r2*i*i + 2*k_Neg_dr1*i2r2 - 2*k_dr2*(2.08-ot7)*i*i + 2*k_Neg_dr2*ot7*i2r2 - 2*k_dr3*(208-ocre)*i*i + 2*k_Neg_dr3*ocre*i2r2 - 2*k_dr4*(2.08-oy)*i*i + 2*k_Neg_dr4*oy*i2r2 + k_ft*yiex + k_t*(iex-i) + 2*lambda_i2r2*i2r2 + lambda_yiex*yiex\n",
    "     f8 = k_dr1*i*i*r2 - k_Neg_dr1*i2r2 + k_dr2*i*i*(2.08-ot7) - k_Neg_dr2*i2r2*ot7 + k_dr3*i*i*(208-ocre) - k_Neg_dr3*i2r2*ocre + k_dr4*i*i*(2.08-oy) - k_Neg_dr4*i2r2*oy - lambda_i2r2*i2r2\n",
    "     f9 = k_s0mt7*(2.08-ot7) + k_s1mt7*ot7 - lambda_mt7*mt7\n",
    "     f10 = k_st7*mt7 - lambda_t7*t7   \n",
    "     f11 = k_s0mcre*(208-ocre)*t7 + k_s1mcre*ocre*t7 - lambda_mcre*mcre\n",
    "     f12 = k_scre*mcre - lambda_cre*cre\n",
    "     f13 = k_s0my*(2.08-oy) + k_s1my*oy - lambda_my*my\n",
    "     f14 = k_sy*my + (k_ft + k_Neg_p)*yiex - k_p*lac_Y*iex - lambda_y*lac_Y\n",
    "     return [f0, f1, f2, f3, f4, f5, f6, f7, f8, f9, f10, f11, f12]\n"
   ]
  },
  {
   "cell_type": "code",
   "execution_count": 27,
   "metadata": {
    "collapsed": true
   },
   "outputs": [],
   "source": [
    "mr_0 = 0\n",
    "r_0 = 0\n",
    "r2_0 = 0\n",
    "ot7_0 = 2.08\n",
    "ocre_0 = 208\n",
    "oy_0 = 2.08\n",
    "mt7_0 = 0\n",
    "t7_0 = 0\n",
    "mcre_0 = 0\n",
    "cre_0 = 0\n",
    "i_0 = 0\n",
    "i2r2_0 = 0\n",
    "my_0 = 0\n",
    "lac_Y_0 = 0\n",
    "yiex_0 = 0 \n",
    "    \n",
    "y0 = [mr_0, r_0, r2_0, ot7_0, ocre_0, oy_0, mt7_0, t7_0, mcre_0, cre_0, i_0, i2r2_0, my_0, lac_Y_0, yiex_0]     \n",
    "t  = np.linspace(0, 400, 1000) "
   ]
  },
  {
   "cell_type": "code",
   "execution_count": null,
   "metadata": {
    "collapsed": true
   },
   "outputs": [],
   "source": [
    "soln = odeint(f, y0, t)\n",
    "\n",
    "mr = soln[:, 0]\n",
    "r = soln[:, 1]\n",
    "r2 = soln[:, 2]\n",
    "ot7 = soln[:, 3]\n",
    "ocre = soln[:, 4]\n",
    "oy = soln[:,5]\n",
    "mt7 = soln[:, 6]\n",
    "t7 = soln[:, 7]\n",
    "mcre = soln[:, 8]\n",
    "cre = soln[:, 9]\n",
    "i = soln[:, 10]\n",
    "i2r2 = soln[:, 11]\n",
    "my = soln[:, 12]\n",
    "lac_Y = soln[:, 13]\n",
    "yiex = soln[:, 14]"
   ]
  },
  {
   "cell_type": "code",
   "execution_count": 28,
   "metadata": {
    "collapsed": true
   },
   "outputs": [],
   "source": [
    "plt.ion()\n",
    "plt.rcParams['figure.figsize'] = 10, 8"
   ]
  },
  {
   "cell_type": "code",
   "execution_count": null,
   "metadata": {
    "collapsed": true
   },
   "outputs": [],
   "source": [
    "plt.figure()\n",
    "plt.plot(t, cre, label='Cre')\n",
    "plt.xlabel('Time')\n",
    "plt.ylabel('Cre')\n",
    "plt.title('cre change over time')\n",
    "plt.legend(loc=0)\n",
    "\n",
    "axes = plt.gca()\n",
    "#axes.set_ylim([0,6000])\n",
    "axes.set_xlim([0,120])\n",
    "print(cre[999])"
   ]
  },
  {
   "cell_type": "code",
   "execution_count": 31,
   "metadata": {},
   "outputs": [
    {
     "name": "stdout",
     "output_type": "stream",
     "text": [
      "[6.7978801044786463, 7.0711018169164612, 8.420431548488283, 246.99824081771177, 276.58692312374421, 284.70608496466821, 286.3144286693809, 285.21207329990591, 282.80864679848452, 279.73446069813241, 276.30655208826681, 272.69785791159109, 269.00834907076808, 265.29827023343336, 261.60497938174097, 257.95203925430866, 254.35439186820835, 250.82142885986957, 247.35888242276033, 243.97002799232817]\n"
     ]
    },
    {
     "data": {
      "image/png": "[encoded data removed]",
      "text/plain": [
       "<matplotlib.figure.Figure at 0x11aef4f10>"
      ]
     },
     "metadata": {},
     "output_type": "display_data"
    }
   ],
   "source": [
    "lacY = []\n",
    "for iex in range(0, 200000, 10000):\n",
    "    soln = odeint(f, y0, t)\n",
    "\n",
    "    mr = soln[:, 0]\n",
    "    r = soln[:, 1]\n",
    "    r2 = soln[:, 2]\n",
    "    o = soln[:, 3]\n",
    "    i = soln[:, 4]\n",
    "    i2r2 = soln[:, 5]\n",
    "    my = soln[:, 6]\n",
    "    lac_Y = soln[:, 7]\n",
    "    yiex = soln[:, 8]\n",
    "    \n",
    "    lacY.append(lac_Y[999])\n",
    "    plt.scatter(iex, lac_Y[999])\n",
    "print(lacY)    "
   ]
  }
 ],
 "metadata": {
  "kernelspec": {
   "display_name": "Python 2",
   "language": "python",
   "name": "python2"
  },
  "language_info": {
   "codemirror_mode": {
    "name": "ipython",
    "version": 2
   },
   "file_extension": ".py",
   "mimetype": "text/x-python",
   "name": "python",
   "nbconvert_exporter": "python",
   "pygments_lexer": "ipython2",
   "version": "2.7.13"
  }
 },
 "nbformat": 4,
 "nbformat_minor": 1
}
