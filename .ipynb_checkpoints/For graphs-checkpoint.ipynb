{
 "cells": [
  {
   "cell_type": "markdown",
   "metadata": {},
   "source": [
    "# Deterministic Model for recombination (Step 1~5)"
   ]
  },
  {
   "cell_type": "code",
   "execution_count": 216,
   "metadata": {
    "collapsed": true
   },
   "outputs": [],
   "source": [
    "from __future__ import division, print_function # Imports from __future__ since we're running Python 2\n",
    "import os\n",
    "import numpy as np \n",
    "import pandas as pd\n",
    "import matplotlib.pyplot as plt\n",
    "import seaborn as sns\n",
    "import scipy\n",
    "from sklearn.naive_bayes import MultinomialNB\n",
    "from sklearn.metrics import accuracy_score, confusion_matrix\n",
    "%matplotlib inline\n",
    "from scipy.integrate import odeint\n",
    "from scipy.integrate import ode"
   ]
  },
  {
   "cell_type": "code",
   "execution_count": 217,
   "metadata": {
    "collapsed": true
   },
   "outputs": [],
   "source": [
    "#to have [R2]T reach 2000 instead of 20\n",
    "k_smr = 24.67\n",
    "#k_smr = 0\n",
    "\n",
    "k_sr = 15\n",
    "k_2r = 50\n",
    "k_Neg_2r = 1e-3\n",
    "k_ry = 960\n",
    "k_Neg_ry = 2.4\n",
    "k_dr1 = 3e-7\n",
    "k_Neg_dr1 = 12\n",
    "k_dr4 = 3e-7\n",
    "k_Neg_dr4 = 4.8e3\n",
    "k_s0my = 0.01\n",
    "k_s1my = 0.5\n",
    "k_sy = 30\n",
    "k_p = 0.12\n",
    "k_Neg_p = 0.1\n",
    "k_ft = 6e4\n",
    "k_t = 0.92\n",
    "\n",
    "lambda_mr = 0.462\n",
    "lambda_r = 0.2\n",
    "lambda_i2r2 = 0.2\n",
    "lambda_r2 = 0.2\n",
    "lambda_my = 0.462\n",
    "lambda_y = 0.2\n",
    "lambda_yiex = 0.2\n",
    "\n",
    "\n",
    "#rates for t7\n",
    "k_s0mt7 = 0.01\n",
    "k_rt7 = 960\n",
    "k_Neg_rt7 = 2.4\n",
    "k_dr2 = 3e-7\n",
    "k_Neg_dr2 = 4.8e3\n",
    "\n",
    "#rates to be modified；at R = 0, T7_mRNA = 667, T7 = 14673\n",
    "k_s1mt7 = 148.15\n",
    "lambda_mt7 = 0.462\n",
    "k_st7 = 4.4\n",
    "lambda_t7 = 0.2\n",
    "\n",
    "\n",
    "#rates for cre\n",
    "k_s0mcre = 0.01\n",
    "k_rcre = 960\n",
    "k_Neg_rcre = 2.4\n",
    "k_dr3 = 3e-7\n",
    "k_Neg_dr3 = 4.8e3\n",
    "\n",
    "k_s1mcre = 28.3\n",
    "lambda_mcre = 0.462\n",
    "k_scre = 4.4\n",
    "lambda_cre = 0.2\n",
    "\n",
    "\n",
    "\n",
    "\n",
    "#rates for step 2~5\n",
    "k_1 = 13.2\n",
    "k_Neg_1 = 3.96\n",
    "k_2 = 13.8\n",
    "k_Neg_2 = 0.288\n",
    "k_3 = 2.4\n",
    "k_Neg_3 = 13\n",
    "k_4 = 0.021\n",
    "k_Neg_4 = 10"
   ]
  },
  {
   "cell_type": "code",
   "execution_count": 218,
   "metadata": {
    "collapsed": true
   },
   "outputs": [],
   "source": [
    "#plt.ion()\n",
    "#plt.rcParams['figure.figsize'] = 4, 4\n",
    "\n",
    "p_total_continuous = []\n",
    "cre_continuous = []\n",
    "\n",
    "s_itself_continuous = []\n",
    "s_combined_continuous = []\n",
    "\n",
    "se_continuous = []\n",
    "se2a_continuous = []\n",
    "se2b_continuous = []\n",
    "se3_continuous = []\n",
    "se4_continuous = []\n",
    "sc_continuous = []\n",
    "\n",
    "qe2_continuous = []\n",
    "qe_continuous = []\n",
    "q_continuous = []"
   ]
  },
  {
   "cell_type": "code",
   "execution_count": 219,
   "metadata": {
    "collapsed": true
   },
   "outputs": [],
   "source": [
    "def f(y, t):\n",
    "     mr = y[0]\n",
    "     r = y[1]\n",
    "     r2 = y[2]\n",
    "     oy = y[3]\n",
    "     ot7 = y[4]\n",
    "     ocre = y[5]\n",
    "     i = y[6]   \n",
    "     i2r2 = y[7]\n",
    "     my = y[8]\n",
    "     lac_Y = y[9]\n",
    "     mt7 = y[10]\n",
    "     t7 = y[11]\n",
    "     mcre = y[12]\n",
    "     cre = y[13]   \n",
    "     yiex = y[14]\n",
    "\n",
    "     f0 = k_smr - lambda_mr*mr\n",
    "     f1 = k_sr*mr - 2*k_2r*r*r + 2*k_Neg_2r*r2 - lambda_r*r\n",
    "     f2 = k_2r*r*r - k_Neg_2r*r2 - k_rt7*r2*ot7 + k_Neg_rt7*(2.08-ot7) - k_ry*r2*oy + k_Neg_ry*(2.08-oy) - k_rcre*r2*ocre + k_Neg_rcre*(60-ocre) - k_dr1*i*i*r2 + k_Neg_dr1*i2r2 - lambda_r2*r2\n",
    "     f3 = -k_ry*r2*oy + k_Neg_ry*(2.08-oy) + k_dr4*i*i*(2.08-oy) - k_Neg_dr4*i2r2*oy\n",
    "     f4 = -k_rt7*r2*ot7 + k_Neg_rt7*(2.08-ot7) + k_dr2*i*i*(2.08-ot7) - k_Neg_dr2*i2r2*ot7\n",
    "     f5 = -k_rcre*r2*ocre + k_Neg_rcre*(60-ocre) + k_dr3*i*i*(60-ocre) - k_Neg_dr3*i2r2*ocre      \n",
    "     f6 = -2*k_dr1*r2*i*i + 2*k_Neg_dr1*i2r2 - 2*k_dr2*(2.08-ot7)*i*i + 2*k_Neg_dr2*ot7*i2r2 - 2*k_dr3*(60-ocre)*i*i + 2*k_Neg_dr3*ocre*i2r2 - 2*k_dr4*(2.08-oy)*i*i + 2*k_Neg_dr4*oy*i2r2 + k_ft*yiex + k_t*(iex-i) + 2*lambda_i2r2*i2r2 + lambda_yiex*yiex\n",
    "     f7 = k_dr1*i*i*r2 - k_Neg_dr1*i2r2 + k_dr2*i*i*(2.08-ot7) - k_Neg_dr2*i2r2*ot7 + k_dr3*i*i*(60-ocre) - k_Neg_dr3*i2r2*ocre + k_dr4*i*i*(2.08-oy) - k_Neg_dr4*i2r2*oy - lambda_i2r2*i2r2\n",
    "     f8 = k_s0my*(2.08-oy) + k_s1my*oy - lambda_my*my\n",
    "     f9 = k_sy*my + (k_ft + k_Neg_p)*yiex - k_p*lac_Y*iex - lambda_y*lac_Y\n",
    "     f10 = k_s0mt7*(2.08-ot7) + k_s1mt7*ot7 - lambda_mt7*mt7    \n",
    "     f11 = k_st7*mt7 - lambda_t7*t7\n",
    "     f12 = k_s0mcre*(60-ocre)*t7 + k_s1mcre*ocre*t7 - lambda_mcre*mcre   \n",
    "     f13 = k_scre*mcre - lambda_cre*cre\n",
    "     f14 = -(k_ft + k_Neg_p)*yiex + k_p*lac_Y*iex - lambda_yiex*yiex  \n",
    "     return [f0, f1, f2, f3, f4, f5, f6, f7, f8, f9, f10, f11, f12, f13, f14]"
   ]
  },
  {
   "cell_type": "code",
   "execution_count": 220,
   "metadata": {
    "collapsed": true
   },
   "outputs": [],
   "source": [
    "mr_0 = 0\n",
    "r_0 = 0\n",
    "r2_0 = 0\n",
    "oy_0 = 2.08\n",
    "ot7_0 = 2.08\n",
    "ocre_0 = 60\n",
    "i_0 = 0\n",
    "i2r2_0 = 0\n",
    "my_0 = 0\n",
    "lac_Y_0 = 0\n",
    "mt7_0 = 0\n",
    "t7_0 = 0\n",
    "mcre_0 = 0\n",
    "cre_0 = 0\n",
    "yiex_0 = 0\n",
    " \n",
    "y0 = [mr_0, r_0, r2_0, oy_0, ot7_0, ocre_0, i_0, i2r2_0, my_0, lac_Y_0, mt7_0, t7_0, mcre_0, cre_0, yiex_0]     "
   ]
  },
  {
   "cell_type": "code",
   "execution_count": 221,
   "metadata": {},
   "outputs": [
    {
     "data": {
      "text/plain": [
       "<matplotlib.text.Text at 0x120218190>"
      ]
     },
     "execution_count": 221,
     "metadata": {},
     "output_type": "execute_result"
    },
    {
     "data": {
      "image/png": "[encoded data removed]",
      "text/plain": [
       "<matplotlib.figure.Figure at 0x11feea4d0>"
      ]
     },
     "metadata": {},
     "output_type": "display_data"
    }
   ],
   "source": [
    "t  = np.linspace(0, 120, 20000) \n",
    "iex = 0\n",
    "\n",
    "soln = odeint(f, y0, t)\n",
    "\n",
    "mr_s = soln[:, 0]\n",
    "r_s = soln[:, 1]\n",
    "r2_s = soln[:, 2]\n",
    "oy_s = soln[:, 3]\n",
    "ot7_s = soln[:, 4]\n",
    "ocre_s = soln[:, 5]\n",
    "i_s = soln[:, 6]\n",
    "i2r2_s = soln[:, 7]\n",
    "my_s = soln[:, 8]\n",
    "lac_Y_s = soln[:, 9]\n",
    "mt7_s = soln[:, 10]\n",
    "t7_s = soln[:, 11]\n",
    "mcre_s = soln[:, 12]\n",
    "cre_s = soln[:, 13]\n",
    "yiex_s = soln[:, 14]\n",
    "\n",
    "\n",
    "for i in range(20000):\n",
    "    cre_continuous.append(cre_s[i])\n",
    "\n",
    "plt.plot(t, cre_s)\n",
    "plt.title('0 IPTG')\n",
    "plt.ylabel('Cre')\n",
    "plt.xlabel('Time') "
   ]
  },
  {
   "cell_type": "code",
   "execution_count": 222,
   "metadata": {},
   "outputs": [],
   "source": [
    "y_e = []\n",
    "for i in range(15):\n",
    "    value = soln[:, i]\n",
    "    y_e.append(value[19999])\n",
    "\n",
    "iex = 100000\n",
    "t  = np.linspace(0, 60, 10000) \n",
    "\n",
    "soln = odeint(f, y_e, t)\n",
    "\n",
    "mr_s = soln[:, 0]\n",
    "r_s = soln[:, 1]\n",
    "r2_s = soln[:, 2]\n",
    "oy_s = soln[:, 3]\n",
    "ot7_s = soln[:, 4]\n",
    "ocre_s = soln[:, 5]\n",
    "i_s = soln[:, 6]\n",
    "i2r2_s = soln[:, 7]\n",
    "my_s = soln[:, 8]\n",
    "lac_Y_s = soln[:, 9]\n",
    "mt7_s = soln[:, 10]\n",
    "t7_s = soln[:, 11]\n",
    "mcre_s = soln[:, 12]\n",
    "cre_s = soln[:, 13]\n",
    "yiex_s = soln[:, 14]\n",
    "\n",
    "\n",
    "for i in range(10000):\n",
    "    cre_continuous.append(cre_s[i])"
   ]
  },
  {
   "cell_type": "code",
   "execution_count": 223,
   "metadata": {},
   "outputs": [
    {
     "data": {
      "text/plain": [
       "(0, 3000)"
      ]
     },
     "execution_count": 223,
     "metadata": {},
     "output_type": "execute_result"
    },
    {
     "data": {
      "image/png": "[encoded data removed]",
      "text/plain": [
       "<matplotlib.figure.Figure at 0x11fa5e050>"
      ]
     },
     "metadata": {},
     "output_type": "display_data"
    }
   ],
   "source": [
    "t  = np.linspace(0, 180, 30000) \n",
    "\n",
    "plt.plot(t, cre_continuous)\n",
    "plt.title('0-100000 IPTG')\n",
    "plt.ylabel('Cre')\n",
    "plt.xlabel('Time')\n",
    "axes = plt.gca()\n",
    "axes.set_ylim([0,3000])"
   ]
  },
  {
   "cell_type": "code",
   "execution_count": 224,
   "metadata": {},
   "outputs": [
    {
     "data": {
      "image/png": "[encoded data removed]",
      "text/plain": [
       "<matplotlib.figure.Figure at 0x11d5930d0>"
      ]
     },
     "metadata": {},
     "output_type": "display_data"
    }
   ],
   "source": [
    "y_e2 = []\n",
    "for i in range(15):\n",
    "    value = soln[:, i]\n",
    "    y_e2.append(value[9999])\n",
    "\n",
    "    \n",
    "t  = np.linspace(0, 60, 10000) \n",
    "iex = 0\n",
    "\n",
    "soln = odeint(f, y_e2, t)\n",
    "\n",
    "mr_s = soln[:, 0]\n",
    "r_s = soln[:, 1]\n",
    "r2_s = soln[:, 2]\n",
    "oy_s = soln[:, 3]\n",
    "ot7_s = soln[:, 4]\n",
    "ocre_s = soln[:, 5]\n",
    "i_s = soln[:, 6]\n",
    "i2r2_s = soln[:, 7]\n",
    "my_s = soln[:, 8]\n",
    "lac_Y_s = soln[:, 9]\n",
    "mt7_s = soln[:, 10]\n",
    "t7_s = soln[:, 11]\n",
    "mcre_s = soln[:, 12]\n",
    "cre_s = soln[:, 13]\n",
    "yiex_s = soln[:, 14]\n",
    "\n",
    "\n",
    "plt.plot(t, cre_s)\n",
    "plt.title('0 IPTG')\n",
    "plt.ylabel('Cre')\n",
    "plt.xlabel('Time')\n",
    "\n",
    "\n",
    "for i in range(10000):\n",
    "    cre_continuous.append(cre_s[i])    "
   ]
  },
  {
   "cell_type": "code",
   "execution_count": 225,
   "metadata": {},
   "outputs": [
    {
     "data": {
      "image/png": "[encoded data removed]",
      "text/plain": [
       "<matplotlib.figure.Figure at 0x11bc57b10>"
      ]
     },
     "metadata": {},
     "output_type": "display_data"
    }
   ],
   "source": [
    "t  = np.linspace(0, 240, 40000) \n",
    "\n",
    "plt.plot(t, cre_continuous)\n",
    "plt.title('0-100000-0 IPTG 60 min')\n",
    "plt.ylabel('Cre')\n",
    "plt.xlabel('Time')\n",
    "axes = plt.gca()\n",
    "axes.set_ylim([0,2000])\n",
    "axes.set_xlim([-10,250])\n",
    "\n",
    "plt.savefig('CreWith60Min100000IPTG.png')"
   ]
  }
 ],
 "metadata": {
  "kernelspec": {
   "display_name": "Python 2",
   "language": "python",
   "name": "python2"
  },
  "language_info": {
   "codemirror_mode": {
    "name": "ipython",
    "version": 2
   },
   "file_extension": ".py",
   "mimetype": "text/x-python",
   "name": "python",
   "nbconvert_exporter": "python",
   "pygments_lexer": "ipython2",
   "version": "2.7.13"
  }
 },
 "nbformat": 4,
 "nbformat_minor": 1
}
