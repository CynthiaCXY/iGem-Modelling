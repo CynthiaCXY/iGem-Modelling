{
 "cells": [
  {
   "cell_type": "markdown",
   "metadata": {},
   "source": [
    "# Deterministic Modelling for T7 and Cre"
   ]
  },
  {
   "cell_type": "code",
   "execution_count": 120,
   "metadata": {
    "collapsed": true
   },
   "outputs": [],
   "source": [
    "# Import packages\n",
    "from __future__ import division, print_function # Imports from __future__ since we're running Python 2\n",
    "import os\n",
    "import numpy as np \n",
    "import pandas as pd\n",
    "import matplotlib.pyplot as plt\n",
    "import seaborn as sns\n",
    "import scipy\n",
    "from sklearn.naive_bayes import MultinomialNB\n",
    "from sklearn.metrics import accuracy_score, confusion_matrix\n",
    "%matplotlib inline\n",
    "from scipy.integrate import odeint"
   ]
  },
  {
   "cell_type": "code",
   "execution_count": 121,
   "metadata": {
    "collapsed": true
   },
   "outputs": [],
   "source": [
    "k_smr = 0.23\n",
    "lambda_mr = 0.462\n",
    "k_sr = 15\n",
    "lambda_r = 0.2\n",
    "k_2r = 50\n",
    "k_Neg_2r = 1e-3\n",
    "k_rt7 = 960\n",
    "k_Neg_rt7 = 2.4\n",
    "lambda_r2 = 0.2\n",
    "k_dr1 = 3e-7\n",
    "k_Neg_dr1 = 12\n",
    "k_dr2 = 3e-7\n",
    "k_Neg_dr2 = 4.8e3\n",
    "k_rcre = 960\n",
    "k_Neg_rcre = 2.4\n",
    "k_dr3 = 3e-7\n",
    "k_Neg_dr3 = 4.8e3\n",
    "lambda_i2r2 = 0.2\n",
    "k_s0mt7 = 0.01\n",
    "k_s1mt7 = 0.5\n",
    "lambda_mt = 0.462\n",
    "k_st7 = 30\n",
    "lambda_t7 = 0.2\n",
    "k_s0mcre = 0.01\n",
    "k_s1mcre = 0.5\n",
    "lambda_mcre = 0.462\n",
    "k_scre = 30\n",
    "lambda_cre = 0.2"
   ]
  },
  {
   "cell_type": "code",
   "execution_count": 122,
   "metadata": {
    "collapsed": true
   },
   "outputs": [],
   "source": [
    "def f(y, t):\n",
    "     mr = y[0]\n",
    "     r = y[1]\n",
    "     r2 = y[2]\n",
    "     ot7 = y[3]\n",
    "     ocre = y[4]\n",
    "     i2r2 = y[5]\n",
    "     mt7 = y[6]\n",
    "     t7 = y[7]\n",
    "     mcre = y[8]\n",
    "     cre = y[9]\n",
    "     i = y[10]\n",
    "     r2ot7 = y[11]\n",
    "     r2ocre = y[12]\n",
    "     f0 = k_smr - lambda_mr*mr\n",
    "     f1 = k_sr*mr - 2*k_2r*r*r + 2*k_Neg_2r*r2 - lambda_r*r\n",
    "     f2 = k_2r*r*r - k_Neg_2r*r2 - k_rt7*r2*ot7 + k_Neg_rt7*r2ot7 - k_rcre*r2*ocre + k_Neg_rcre*r2ocre - k_dr1*i*i*r2 + k_Neg_dr1*i2r2 - lambda_r2*r2\n",
    "     f3 = -k_rt7*r2*ot7 + k_Neg_rt7*r2ot7 + k_dr2*i*i*r2ot7 - k_Neg_dr2*i2r2*ot7 \n",
    "     f4 = - k_rcre*r2*ocre + k_Neg_rcre*r2ocre + k_dr3*i*i*r2ocre - k_Neg_dr3*i2r2*ocre\n",
    "     f5 = k_dr1*i*i*r2 - k_Neg_dr1*i2r2 + k_dr2*i*i*r2ot7 - k_Neg_dr2*i2r2*ot7 + k_dr3*i*i*r2ocre - k_Neg_dr3*i2r2*ocre - lambda_i2r2*i2r2\n",
    "     f6 = k_s0mt7*r2ot7 + k_s1mt7*ot7 - lambda_mt*mt7\n",
    "     f7 = k_st7*mt7 - lambda_t7*t7\n",
    "     f8 = k_s0mcre*r2ocre*t7 + k_s1mcre*ocre*t7 - lambda_mcre*mcre\n",
    "     f9 = k_scre*mcre - lambda_cre*cre\n",
    "     f10 = 0\n",
    "     f11 = -k_dr2*i*i*r2ot7 + k_Neg_dr2*i2r2*ot7 + k_rt7*r2*ot7 - k_Neg_rt7*r2ot7\n",
    "     f12 = -k_dr3*i*i*r2ocre + k_Neg_dr3*i2r2*ocre + k_rcre*r2*ocre - k_Neg_rcre*r2ocre   \n",
    "     return [f0, f1, f2, f3, f4, f5, f6, f7, f8, f9, f10, f11, f12]\n"
   ]
  },
  {
   "cell_type": "code",
   "execution_count": 123,
   "metadata": {},
   "outputs": [],
   "source": [
    "mr_0 = 0\n",
    "r_0 = 0\n",
    "r2_0 = 0\n",
    "ot7_0 = 2.08\n",
    "ocre_0 = 208\n",
    "i2r2_0 = 0\n",
    "mt7_0 = 0\n",
    "t7_0 = 0\n",
    "mcre_0 = 0\n",
    "cre_0 = 0\n",
    "i_0 = 0 \n",
    "r2ot7_0 = 0\n",
    "r2ocre_0 = 0                 \n",
    "y0 = [mr_0, r_0, r2_0, ot7_0, ocre_0, i2r2_0, mt7_0, t7_0, mcre_0, cre_0, i_0, r2ot7_0, r2ocre_0]     # initial condition vector\n",
    "t  = np.linspace(0, 120, 1000)         # time grid\n"
   ]
  },
  {
   "cell_type": "code",
   "execution_count": 124,
   "metadata": {},
   "outputs": [],
   "source": [
    "soln = odeint(f, y0, t)\n",
    "\n",
    "mr = soln[:, 0]\n",
    "r = soln[:, 1]\n",
    "r2 = soln[:, 2]\n",
    "ot7 = soln[:, 3]\n",
    "ocre = soln[:, 4]\n",
    "i2r2 = soln[:, 5]\n",
    "mt7 = soln[:, 6]\n",
    "t7 = soln[:, 7]\n",
    "mcre = soln[:, 8]\n",
    "cre = soln[:, 9]\n",
    "i = soln[:, 10]\n",
    "r2ot7 = soln[:, 11]\n",
    "r2ocre = soln[:, 12] "
   ]
  },
  {
   "cell_type": "code",
   "execution_count": 125,
   "metadata": {
    "collapsed": true
   },
   "outputs": [],
   "source": [
    "plt.ion()\n",
    "plt.rcParams['figure.figsize'] = 10, 8"
   ]
  },
  {
   "cell_type": "code",
   "execution_count": 128,
   "metadata": {},
   "outputs": [
    {
     "name": "stdout",
     "output_type": "stream",
     "text": [
      "4627.75290318\n"
     ]
    },
    {
     "data": {
      "image/png": "[encoded data removed]",
      "text/plain": [
       "<matplotlib.figure.Figure at 0x11e7d3c10>"
      ]
     },
     "metadata": {},
     "output_type": "display_data"
    }
   ],
   "source": [
    "plt.figure()\n",
    "plt.plot(t, cre, label='Cre')\n",
    "plt.xlabel('Time')\n",
    "plt.ylabel('Cre')\n",
    "plt.title('cre change over time')\n",
    "plt.legend(loc=0)\n",
    "\n",
    "axes = plt.gca()\n",
    "axes.set_ylim([0,6000])\n",
    "axes.set_xlim([0,120])\n",
    "print(cre[999])"
   ]
  },
  {
   "cell_type": "code",
   "execution_count": 127,
   "metadata": {},
   "outputs": [
    {
     "data": {
      "text/plain": [
       "<matplotlib.text.Text at 0x11e7dcbd0>"
      ]
     },
     "execution_count": 127,
     "metadata": {},
     "output_type": "execute_result"
    },
    {
     "data": {
      "image/png": "[encoded data removed]",
      "text/plain": [
       "<matplotlib.figure.Figure at 0x11f644e10>"
      ]
     },
     "metadata": {},
     "output_type": "display_data"
    }
   ],
   "source": [
    "f, (ax1, ax2) = plt.subplots(1, 2, sharex=True)\n",
    "ax1.plot(t, ot7, label='$O_T7$')\n",
    "ax1.set_title('$O_{T7}$')\n",
    "#ax2.plot(t, cre, label='Cre')\n",
    "#ax2.set_title('$Cre$')\n",
    "#ax2.plot(t, i, label='I')\n",
    "#ax2.set_title('$I$')\n",
    "\n",
    "#ax2.plot(t, r2ot7, label='$R_2O_{T7}$')\n",
    "#ax2.set_title('$R_2O_{T7}$')\n",
    "\n",
    "ax2.plot(t, r, label='$R$')\n",
    "ax2.set_title('$R$')"
   ]
  }
 ],
 "metadata": {
  "kernelspec": {
   "display_name": "Python 2",
   "language": "python",
   "name": "python2"
  },
  "language_info": {
   "codemirror_mode": {
    "name": "ipython",
    "version": 2
   },
   "file_extension": ".py",
   "mimetype": "text/x-python",
   "name": "python",
   "nbconvert_exporter": "python",
   "pygments_lexer": "ipython2",
   "version": "2.7.13"
  }
 },
 "nbformat": 4,
 "nbformat_minor": 1
}
