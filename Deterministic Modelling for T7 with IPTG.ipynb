{
 "cells": [
  {
   "cell_type": "markdown",
   "metadata": {},
   "source": [
    "# Deterministic Modelling for T7 with IPTG"
   ]
  },
  {
   "cell_type": "code",
   "execution_count": 158,
   "metadata": {
    "collapsed": true
   },
   "outputs": [],
   "source": [
    "from __future__ import division, print_function # Imports from __future__ since we're running Python 2\n",
    "import os\n",
    "import numpy as np \n",
    "import pandas as pd\n",
    "import matplotlib.pyplot as plt\n",
    "import seaborn as sns\n",
    "import scipy\n",
    "from sklearn.naive_bayes import MultinomialNB\n",
    "from sklearn.metrics import accuracy_score, confusion_matrix\n",
    "%matplotlib inline\n",
    "from scipy.integrate import odeint"
   ]
  },
  {
   "cell_type": "code",
   "execution_count": 159,
   "metadata": {
    "collapsed": true
   },
   "outputs": [],
   "source": [
    "k_smr = 0.23\n",
    "lambda_mr = 0.462\n",
    "k_sr = 15\n",
    "lambda_r = 0.2\n",
    "k_2r = 50\n",
    "k_Neg_2r = 1e-3\n",
    "k_rt7 = 960\n",
    "k_Neg_rt7 = 2.4\n",
    "lambda_r2 = 0.2\n",
    "k_dr1 = 3e-7\n",
    "k_Neg_dr1 = 12\n",
    "k_dr2 = 3e-7\n",
    "k_Neg_dr2 = 4.8e3\n",
    "k_rcre = 960\n",
    "k_Neg_rcre = 2.4\n",
    "k_dr3 = 3e-7\n",
    "k_Neg_dr3 = 4.8e3\n",
    "lambda_i2r2 = 0.2\n",
    "k_s0mt7 = 0.01\n",
    "k_s1mt7 = 0.5\n",
    "lambda_mt = 0.462\n",
    "k_st7 = 30\n",
    "lambda_t7 = 0.2"
   ]
  },
  {
   "cell_type": "code",
   "execution_count": 160,
   "metadata": {
    "collapsed": true
   },
   "outputs": [],
   "source": [
    "def f(y, t):\n",
    "     mr = y[0]\n",
    "     r = y[1]\n",
    "     r2 = y[2]\n",
    "     ot7 = y[3]\n",
    "     i2r2 = y[4]\n",
    "     mt7 = y[5]\n",
    "     t7 = y[6]\n",
    "     i = y[7]\n",
    "    \n",
    "     f0 = k_smr - lambda_mr*mr\n",
    "     f1 = k_sr*mr - 2*k_2r*r*r + 2*k_Neg_2r*r2 - lambda_r*r\n",
    "     f2 = k_2r*r*r - k_Neg_2r*r2 - k_rt7*r2*ot7 + k_Neg_rt7*(2.08-ot7) - k_dr1*i*i*r2 + k_Neg_dr1*i2r2 - lambda_r2*r2\n",
    "     f3 = -k_rt7*r2*ot7 + k_Neg_rt7*(2.08-ot7) + k_dr2*i*i*(2.08-ot7) - k_Neg_dr2*i2r2*ot7 \n",
    "     f4 = k_dr1*i*i*r2 - k_Neg_dr1*i2r2 + k_dr2*i*i*(2.08-ot7) - k_Neg_dr2*i2r2*ot7 - lambda_i2r2*i2r2\n",
    "     f5 = k_s0mt7*(2.08-ot7) + k_s1mt7*ot7 - lambda_mt*mt7\n",
    "     f6 = k_st7*mt7 - lambda_t7*t7\n",
    "     f7 = 0 \n",
    "     return [f0, f1, f2, f3, f4, f5, f6, f7]\n"
   ]
  },
  {
   "cell_type": "code",
   "execution_count": 161,
   "metadata": {
    "collapsed": true
   },
   "outputs": [],
   "source": [
    "mr_0 = 0\n",
    "r_0 = 0\n",
    "r2_0 = 0\n",
    "ot7_0 = 2.08\n",
    "i2r2_0 = 0\n",
    "mt7_0 = 0\n",
    "t7_0 = 0\n",
    "i_0 = 0 \n",
    "                \n",
    "y0 = [mr_0, r_0, r2_0, ot7_0, i2r2_0, mt7_0, t7_0, i_0]     # initial condition vector\n",
    "t  = np.linspace(0, 400, 2000)         # time grid\n"
   ]
  },
  {
   "cell_type": "code",
   "execution_count": 162,
   "metadata": {
    "scrolled": false
   },
   "outputs": [],
   "source": [
    "soln = odeint(f, y0, t)\n",
    "\n",
    "mr = soln[:, 0]\n",
    "r = soln[:, 1]\n",
    "r2 = soln[:, 2]\n",
    "ot7 = soln[:, 3]\n",
    "i2r2 = soln[:, 4]\n",
    "mt7 = soln[:, 5]\n",
    "t7 = soln[:, 6]\n",
    "i = soln[:, 7]"
   ]
  },
  {
   "cell_type": "code",
   "execution_count": 163,
   "metadata": {
    "collapsed": true
   },
   "outputs": [],
   "source": [
    "plt.ion()\n",
    "plt.rcParams['figure.figsize'] = 10, 8"
   ]
  },
  {
   "cell_type": "code",
   "execution_count": 164,
   "metadata": {},
   "outputs": [
    {
     "name": "stdout",
     "output_type": "stream",
     "text": [
      "T7:  6.79788009756\n",
      "R2:  18.5323576575\n"
     ]
    },
    {
     "data": {
      "image/png": "[encoded data removed]",
      "text/plain": [
       "<matplotlib.figure.Figure at 0x1111d4210>"
      ]
     },
     "metadata": {},
     "output_type": "display_data"
    }
   ],
   "source": [
    "plt.figure()\n",
    "plt.plot(t, t7, label='T7')\n",
    "plt.xlabel('Time')\n",
    "plt.ylabel('T7')\n",
    "plt.title('T7 change over time')\n",
    "plt.legend(loc=0)\n",
    "\n",
    "#axes = plt.gca()\n",
    "#axes.set_ylim([0,6000])\n",
    "#axes.set_xlim([0,120])\n",
    "print(\"T7: \", t7[1999])\n",
    "print(\"R2: \", r2[1999])"
   ]
  },
  {
   "cell_type": "code",
   "execution_count": 165,
   "metadata": {},
   "outputs": [],
   "source": [
    "y_e = []\n",
    "for i in range(7):\n",
    "    sol = soln[:, i]\n",
    "    y_e.append(sol[1999])\n",
    "\n",
    "y_e.append(100000)   "
   ]
  },
  {
   "cell_type": "code",
   "execution_count": 166,
   "metadata": {},
   "outputs": [],
   "source": [
    "t  = np.linspace(0, 400, 2000)         # time grid\n",
    "soln = odeint(f, y_e, t)\n",
    "\n",
    "mr = soln[:, 0]\n",
    "r = soln[:, 1]\n",
    "r2 = soln[:, 2]\n",
    "ot7 = soln[:, 3]\n",
    "i2r2 = soln[:, 4]\n",
    "mt7 = soln[:, 5]\n",
    "t7 = soln[:, 6]\n",
    "i = soln[:, 7]"
   ]
  },
  {
   "cell_type": "code",
   "execution_count": 167,
   "metadata": {
    "collapsed": true
   },
   "outputs": [],
   "source": [
    "plt.ion()\n",
    "plt.rcParams['figure.figsize'] = 10, 8"
   ]
  },
  {
   "cell_type": "code",
   "execution_count": 168,
   "metadata": {},
   "outputs": [
    {
     "name": "stdout",
     "output_type": "stream",
     "text": [
      "17.5911264411\n"
     ]
    },
    {
     "data": {
      "image/png": "[encoded data removed]",
      "text/plain": [
       "<matplotlib.figure.Figure at 0x1111be750>"
      ]
     },
     "metadata": {},
     "output_type": "display_data"
    }
   ],
   "source": [
    "plt.figure()\n",
    "plt.plot(t, t7, label='T7')\n",
    "plt.xlabel('Time')\n",
    "plt.ylabel('T7')\n",
    "plt.title('T7 change over time')\n",
    "plt.legend(loc=0)\n",
    "\n",
    "#axes = plt.gca()\n",
    "#axes.set_ylim([4400,4800])\n",
    "#axes.set_xlim([0,500])\n",
    "print(t7[1999])"
   ]
  }
 ],
 "metadata": {
  "kernelspec": {
   "display_name": "Python 2",
   "language": "python",
   "name": "python2"
  },
  "language_info": {
   "codemirror_mode": {
    "name": "ipython",
    "version": 2
   },
   "file_extension": ".py",
   "mimetype": "text/x-python",
   "name": "python",
   "nbconvert_exporter": "python",
   "pygments_lexer": "ipython2",
   "version": "2.7.13"
  }
 },
 "nbformat": 4,
 "nbformat_minor": 1
}
